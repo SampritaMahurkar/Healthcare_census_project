{
 "cells": [
  {
   "cell_type": "code",
   "execution_count": 1,
   "id": "ea3a6148",
   "metadata": {},
   "outputs": [
    {
     "name": "stdout",
     "output_type": "stream",
     "text": [
      "Requirement already satisfied: sqlalchemy in c:\\users\\miles\\anaconda3\\lib\\site-packages (1.4.39)\n",
      "Requirement already satisfied: pymysql in c:\\users\\miles\\anaconda3\\lib\\site-packages (1.0.2)\n",
      "Requirement already satisfied: greenlet!=0.4.17 in c:\\users\\miles\\anaconda3\\lib\\site-packages (from sqlalchemy) (1.1.1)\n",
      "Note: you may need to restart the kernel to use updated packages.\n"
     ]
    }
   ],
   "source": [
    "pip install sqlalchemy pymysql"
   ]
  },
  {
   "cell_type": "code",
   "execution_count": 2,
   "id": "e195e693",
   "metadata": {},
   "outputs": [
    {
     "name": "stdout",
     "output_type": "stream",
     "text": [
      "Requirement already satisfied: pymysql in c:\\users\\miles\\anaconda3\\lib\\site-packages (1.0.2)\n",
      "Note: you may need to restart the kernel to use updated packages.\n"
     ]
    }
   ],
   "source": [
    "pip install pymysql"
   ]
  },
  {
   "cell_type": "code",
   "execution_count": 3,
   "id": "00aefaa0",
   "metadata": {},
   "outputs": [
    {
     "name": "stdout",
     "output_type": "stream",
     "text": [
      "Requirement already satisfied: mysql-connector-python in c:\\users\\miles\\anaconda3\\lib\\site-packages (8.0.32)\n",
      "Requirement already satisfied: protobuf<=3.20.3,>=3.11.0 in c:\\users\\miles\\anaconda3\\lib\\site-packages (from mysql-connector-python) (3.20.3)\n",
      "Note: you may need to restart the kernel to use updated packages.\n"
     ]
    }
   ],
   "source": [
    "pip install mysql-connector-python"
   ]
  },
  {
   "cell_type": "code",
   "execution_count": 4,
   "id": "dc779f52",
   "metadata": {},
   "outputs": [
    {
     "name": "stdout",
     "output_type": "stream",
     "text": [
      "Requirement already satisfied: sqlalchemy in c:\\users\\miles\\anaconda3\\lib\\site-packages (1.4.39)\n",
      "Requirement already satisfied: pandas in c:\\users\\miles\\anaconda3\\lib\\site-packages (1.4.4)\n",
      "Requirement already satisfied: pymysql in c:\\users\\miles\\anaconda3\\lib\\site-packages (1.0.2)\n",
      "Requirement already satisfied: greenlet!=0.4.17 in c:\\users\\miles\\anaconda3\\lib\\site-packages (from sqlalchemy) (1.1.1)\n",
      "Requirement already satisfied: pytz>=2020.1 in c:\\users\\miles\\anaconda3\\lib\\site-packages (from pandas) (2022.1)\n",
      "Requirement already satisfied: numpy>=1.18.5 in c:\\users\\miles\\anaconda3\\lib\\site-packages (from pandas) (1.21.5)\n",
      "Requirement already satisfied: python-dateutil>=2.8.1 in c:\\users\\miles\\anaconda3\\lib\\site-packages (from pandas) (2.8.2)\n",
      "Requirement already satisfied: six>=1.5 in c:\\users\\miles\\anaconda3\\lib\\site-packages (from python-dateutil>=2.8.1->pandas) (1.16.0)\n",
      "Note: you may need to restart the kernel to use updated packages.\n"
     ]
    }
   ],
   "source": [
    "pip install sqlalchemy pandas pymysql"
   ]
  },
  {
   "cell_type": "markdown",
   "id": "7434c087",
   "metadata": {},
   "source": [
    "### Problem Statement 18: (Database connection and data upload)\n",
    "All the files in the clean folder are required to be uploaded to a relational database. The table names should be the same as the file names without the extension. The primary key and foreign key constraints should be included in the tables wherever required."
   ]
  },
  {
   "cell_type": "code",
   "execution_count": 5,
   "id": "1e5ace34",
   "metadata": {},
   "outputs": [],
   "source": [
    "import pandas as pd\n",
    "from sqlalchemy import create_engine\n",
    "\n",
    "username = 'root'\n",
    "password = 'root'\n",
    "host = 'localhost'\n",
    "port = '3306'\n",
    "database = 'project2'\n",
    "\n",
    "engine = create_engine(f'mysql+pymysql://{username}:{password}@{host}:{port}')\n",
    "\n",
    "with engine.connect() as conn:\n",
    "    conn.execute(f'drop database if exists {database}')\n",
    "    conn.execute(f'CREATE DATABASE IF NOT EXISTS {database}')\n"
   ]
  },
  {
   "cell_type": "code",
   "execution_count": null,
   "id": "0eb16ba2",
   "metadata": {},
   "outputs": [],
   "source": []
  },
  {
   "cell_type": "code",
   "execution_count": 106,
   "id": "9a85c873",
   "metadata": {},
   "outputs": [],
   "source": [
    "engine = create_engine(f'mysql+pymysql://{username}:{password}@{host}:{port}/{database}')\n"
   ]
  },
  {
   "cell_type": "code",
   "execution_count": 6,
   "id": "618b72e4",
   "metadata": {},
   "outputs": [
    {
     "data": {
      "text/plain": [
       "37"
      ]
     },
     "execution_count": 6,
     "metadata": {},
     "output_type": "execute_result"
    }
   ],
   "source": [
    "\n",
    "engine = create_engine(f'mysql+pymysql://{username}:{password}@{host}:{port}/{database}')\n",
    "\n",
    "\n",
    "census = pd.read_csv('clean_data2/census.csv')\n",
    "government_hospitals = pd.read_csv('clean_data2/government_hospitals.csv')\n",
    "housing = pd.read_csv('clean_data2/housing.csv')\n",
    "all_hospitals = pd.read_csv('clean_data2/all_hospitals.csv')\n",
    "\n",
    "census.to_sql('census',  con=engine, if_exists='replace', index=False)\n",
    "government_hospitals.to_sql('government_hospitals',  con=engine, if_exists='replace', index=False)\n",
    "housing.to_sql('housing',  con=engine, if_exists='replace', index=False)\n",
    "all_hospitals.to_sql('all_hospitals',  con=engine, if_exists='replace', index=False)\n"
   ]
  },
  {
   "cell_type": "code",
   "execution_count": 7,
   "id": "53f59739",
   "metadata": {},
   "outputs": [],
   "source": [
    "conn.close()\n",
    "engine.dispose()"
   ]
  },
  {
   "cell_type": "code",
   "execution_count": null,
   "id": "b1766dec",
   "metadata": {},
   "outputs": [],
   "source": []
  },
  {
   "cell_type": "markdown",
   "id": "105b79a2",
   "metadata": {},
   "source": [
    "### Problem Statement 20: (Run Query on the database and use in python)\n",
    "Write a query that finds the number of households without a toilet on the premise for each district of the state that has the least hospital bed-to-population ratio. \n",
    "Display the information using python.\n"
   ]
  },
  {
   "cell_type": "code",
   "execution_count": 11,
   "id": "f35bb2e0",
   "metadata": {},
   "outputs": [
    {
     "name": "stdout",
     "output_type": "stream",
     "text": [
      "   State/UT            district  no_toilet_on_premise\n",
      "0     Bihar              Araria            635109.254\n",
      "1     Bihar               Arwal            110184.450\n",
      "2     Bihar          Aurangabad            370306.868\n",
      "3     Bihar               Banka            388569.540\n",
      "4     Bihar           Begusarai            501712.769\n",
      "5     Bihar           Bhagalpur            428342.145\n",
      "6     Bihar             Bhojpur            369767.957\n",
      "7     Bihar               Buxar            251014.440\n",
      "8     Bihar           Darbhanga            749102.504\n",
      "9     Bihar                Gaya            606105.919\n",
      "10    Bihar           Gopalganj            441304.011\n",
      "11    Bihar               Jamui            302890.690\n",
      "12    Bihar           Jehanabad            154121.456\n",
      "13    Bihar     Kaimur (Bhabua)            282556.367\n",
      "14    Bihar             Katihar            605365.506\n",
      "15    Bihar            Khagaria            299683.327\n",
      "16    Bihar          Kishanganj            397736.551\n",
      "17    Bihar          Lakhisarai            140942.616\n",
      "18    Bihar           Madhepura            443016.586\n",
      "19    Bihar           Madhubani            884674.634\n",
      "20    Bihar              Munger            186397.415\n",
      "21    Bihar         Muzaffarpur            807620.314\n",
      "22    Bihar             Nalanda            423982.660\n",
      "23    Bihar              Nawada            327802.838\n",
      "24    Bihar  Pashchim Champaran            787511.710\n",
      "25    Bihar               Patna            550919.389\n",
      "26    Bihar     Purba Champaran           1011929.600\n",
      "27    Bihar              Purnia            686613.499\n",
      "28    Bihar              Rohtas            434504.435\n",
      "29    Bihar             Saharsa            390896.529\n",
      "30    Bihar          Samastipur            853731.398\n",
      "31    Bihar               Saran            607770.096\n",
      "32    Bihar          Sheikhpura             93614.711\n",
      "33    Bihar             Sheohar            131846.764\n",
      "34    Bihar           Sitamarhi            675949.672\n",
      "35    Bihar               Siwan            516717.560\n",
      "36    Bihar              Supaul            535006.463\n",
      "37    Bihar            Vaishali            544055.470\n"
     ]
    }
   ],
   "source": [
    "engine = create_engine(f'mysql+pymysql://{username}:{password}@{host}:{port}/{database}')\n",
    "query='select `State/UT`,district,(households_rural+households_urban)-(Households_Urban_Toilet_Premise+Households_Rural_Toilet_Premise) as no_toilet_on_premise from housing where `State/UT`=\"Bihar\"'\n",
    "df = pd.read_sql_query(query, engine)\n",
    "print(df)"
   ]
  },
  {
   "attachments": {
    "image.png": {
     "image/png": "[encoded data removed]"
    }
   },
   "cell_type": "markdown",
   "id": "2843977b",
   "metadata": {},
   "source": [
    "### Problem Statement 21: \n",
    "![image.png](attachment:image.png)\n"
   ]
  },
  {
   "cell_type": "markdown",
   "id": "8d7f5133",
   "metadata": {},
   "source": [
    "#### get_population_district"
   ]
  },
  {
   "cell_type": "code",
   "execution_count": 185,
   "id": "ca5ce5dc",
   "metadata": {},
   "outputs": [],
   "source": [
    "import pymysql\n",
    "import pandas as pd\n",
    "conn=pymysql.connect(\n",
    "    host='localhost',\n",
    "    user='root',\n",
    "    password='root',\n",
    "    db='project2')\n"
   ]
  },
  {
   "cell_type": "code",
   "execution_count": 25,
   "id": "7a5015f8",
   "metadata": {},
   "outputs": [
    {
     "data": {
      "text/plain": [
       "0"
      ]
     },
     "execution_count": 25,
     "metadata": {},
     "output_type": "execute_result"
    }
   ],
   "source": [
    "query='CREATE FUNCTION Get_population_district(district_name VARCHAR(255))RETURNS INT BEGIN DECLARE total_population INT ;SELECT SUM(population) INTO total_population FROM census WHERE district = district_name;RETURN total_population;END;'\n"
   ]
  },
  {
   "cell_type": "code",
   "execution_count": 28,
   "id": "9a5c0ac3",
   "metadata": {},
   "outputs": [
    {
     "name": "stdout",
     "output_type": "stream",
     "text": [
      "   Get_population_district(\"Guntur\")\n",
      "0                            4887813\n"
     ]
    }
   ],
   "source": [
    "query3='select Get_population_district(\"Guntur\");'\n",
    "df3=pd.read_sql_query(query3, engine)\n",
    "print(df3)"
   ]
  },
  {
   "cell_type": "markdown",
   "id": "d095548e",
   "metadata": {},
   "source": [
    "\n",
    "#### get_population"
   ]
  },
  {
   "cell_type": "code",
   "execution_count": 92,
   "id": "11bf4dfa",
   "metadata": {},
   "outputs": [],
   "source": [
    "query4='CREATE FUNCTION get_population(state VARCHAR(255)) RETURNS INT BEGIN DECLARE total_population INT ;SELECT SUM(population) INTO total_population FROM census WHERE `State/UT` = state group by `state/UT`; RETURN total_population;END;'"
   ]
  },
  {
   "cell_type": "code",
   "execution_count": 186,
   "id": "c452d130",
   "metadata": {},
   "outputs": [],
   "source": [
    "cursor=conn.cursor()"
   ]
  },
  {
   "cell_type": "code",
   "execution_count": 93,
   "id": "50699eea",
   "metadata": {},
   "outputs": [
    {
     "data": {
      "text/plain": [
       "0"
      ]
     },
     "execution_count": 93,
     "metadata": {},
     "output_type": "execute_result"
    }
   ],
   "source": [
    "\n",
    "cursor.execute(query4)\n"
   ]
  },
  {
   "cell_type": "code",
   "execution_count": 94,
   "id": "7c1034ed",
   "metadata": {},
   "outputs": [],
   "source": [
    "query5='select get_population(\"Karnataka\");'"
   ]
  },
  {
   "cell_type": "code",
   "execution_count": 95,
   "id": "ef723efb",
   "metadata": {},
   "outputs": [
    {
     "data": {
      "text/plain": [
       "1"
      ]
     },
     "execution_count": 95,
     "metadata": {},
     "output_type": "execute_result"
    }
   ],
   "source": [
    "cursor.execute(query5)"
   ]
  },
  {
   "cell_type": "code",
   "execution_count": 96,
   "id": "2616b34e",
   "metadata": {},
   "outputs": [
    {
     "name": "stdout",
     "output_type": "stream",
     "text": [
      "   get_population(\"Karnataka\")\n",
      "0                     59248274\n"
     ]
    }
   ],
   "source": [
    "df_ss=pd.read_sql_query(query5, engine)\n",
    "print(df_ss)"
   ]
  },
  {
   "cell_type": "markdown",
   "id": "3e6ecf3f",
   "metadata": {},
   "source": [
    "#### senior_citizen_population"
   ]
  },
  {
   "cell_type": "code",
   "execution_count": 59,
   "id": "79617adc",
   "metadata": {},
   "outputs": [],
   "source": [
    "query_s='CREATE FUNCTION senior_citizen_population(state VARCHAR(255)) RETURNS INT BEGIN DECLARE total_senior_citizen INT ;SELECT sum(senior_citizen) INTO total_senior_citizen FROM census WHERE `State/UT` = state group by `State/UT`;RETURN total_senior_citizen;END'"
   ]
  },
  {
   "cell_type": "code",
   "execution_count": 60,
   "id": "68d15cc1",
   "metadata": {},
   "outputs": [
    {
     "data": {
      "text/plain": [
       "0"
      ]
     },
     "execution_count": 60,
     "metadata": {},
     "output_type": "execute_result"
    }
   ],
   "source": [
    "\n",
    "cursor.execute(query_s)"
   ]
  },
  {
   "cell_type": "code",
   "execution_count": 61,
   "id": "bd72c313",
   "metadata": {},
   "outputs": [
    {
     "name": "stdout",
     "output_type": "stream",
     "text": [
      "   senior_citizen_population(\"Karnataka\")\n",
      "0                                10632806\n"
     ]
    }
   ],
   "source": [
    "query='select senior_citizen_population(\"Karnataka\");'\n",
    "df_s=pd.read_sql_query(query, engine)\n",
    "print(df_s)"
   ]
  },
  {
   "cell_type": "markdown",
   "id": "4e8f6302",
   "metadata": {},
   "source": [
    "##### get_hospital_beds"
   ]
  },
  {
   "cell_type": "code",
   "execution_count": 62,
   "id": "f180b557",
   "metadata": {},
   "outputs": [],
   "source": [
    "query='CREATE FUNCTION get_hospital_beds(state VARCHAR(255))RETURNS INT BEGIN  DECLARE total_hospital_beds INT ; SELECT HospitalBeds INTO total_hospital_beds FROM all_hospitals WHERE `State/UT` = state ; RETURN total_hospital_beds; END'"
   ]
  },
  {
   "cell_type": "code",
   "execution_count": 63,
   "id": "5ed8f9e5",
   "metadata": {},
   "outputs": [
    {
     "data": {
      "text/plain": [
       "0"
      ]
     },
     "execution_count": 63,
     "metadata": {},
     "output_type": "execute_result"
    }
   ],
   "source": [
    "cursor.execute(query)"
   ]
  },
  {
   "cell_type": "code",
   "execution_count": 64,
   "id": "70961114",
   "metadata": {},
   "outputs": [
    {
     "name": "stdout",
     "output_type": "stream",
     "text": [
      "   get_hospital_beds(\"Karnataka\")\n",
      "0                           56333\n"
     ]
    }
   ],
   "source": [
    "queryn='select get_hospital_beds(\"Karnataka\");'\n",
    "df_n=pd.read_sql_query(queryn, engine)\n",
    "print(df_n)"
   ]
  },
  {
   "cell_type": "markdown",
   "id": "4d5a1d1b",
   "metadata": {},
   "source": [
    "##### get_govt_hospital_beds"
   ]
  },
  {
   "cell_type": "code",
   "execution_count": 69,
   "id": "4f2d08bc",
   "metadata": {},
   "outputs": [],
   "source": [
    "query_govt='CREATE FUNCTION get_govt_hospital_beds(state VARCHAR(255))RETURNS INT BEGIN  DECLARE total_govt_hospital_beds INT ; SELECT (Rural_government_beds+urban_government_beds) INTO total_govt_hospital_beds FROM government_hospitals WHERE `State/UT` = state ; RETURN total_govt_hospital_beds;END'"
   ]
  },
  {
   "cell_type": "code",
   "execution_count": 70,
   "id": "41541fbc",
   "metadata": {},
   "outputs": [
    {
     "data": {
      "text/plain": [
       "0"
      ]
     },
     "execution_count": 70,
     "metadata": {},
     "output_type": "execute_result"
    }
   ],
   "source": [
    "cursor.execute(query_govt)"
   ]
  },
  {
   "cell_type": "code",
   "execution_count": 71,
   "id": "62e544e5",
   "metadata": {},
   "outputs": [
    {
     "name": "stdout",
     "output_type": "stream",
     "text": [
      "   get_govt_hospital_beds(\"Karnataka\")\n",
      "0                                70165\n"
     ]
    }
   ],
   "source": [
    "queryn='select get_govt_hospital_beds(\"Karnataka\");'\n",
    "df_n2=pd.read_sql_query(queryn, engine)\n",
    "print(df_n2)"
   ]
  },
  {
   "cell_type": "markdown",
   "id": "3e28c389",
   "metadata": {},
   "source": [
    "#### beds_per_lakh"
   ]
  },
  {
   "cell_type": "code",
   "execution_count": 82,
   "id": "a829d676",
   "metadata": {},
   "outputs": [],
   "source": [
    "query_b='Create function beds_per_lakh(state varchar(255)) returns int begin declare total_beds_per_lakh int; with ct1 as  (SELECT c.`State/UT`, sum(c.Population) as Population from census c group by  c.`State/UT` )select (a.HospitalBeds/ct1.Population)*100000 into total_beds_per_lakh from ct1 join all_hospitals a on ct1.`State/UT` = a.`State/UT` where ct1.`State/UT` = state ;return total_beds_per_lakh;END'"
   ]
  },
  {
   "cell_type": "code",
   "execution_count": 83,
   "id": "0e7785aa",
   "metadata": {},
   "outputs": [
    {
     "data": {
      "text/plain": [
       "0"
      ]
     },
     "execution_count": 83,
     "metadata": {},
     "output_type": "execute_result"
    }
   ],
   "source": [
    "cursor.execute(query_b)"
   ]
  },
  {
   "cell_type": "code",
   "execution_count": 84,
   "id": "9b59bf80",
   "metadata": {},
   "outputs": [
    {
     "name": "stdout",
     "output_type": "stream",
     "text": [
      "   beds_per_lakh(\"Karnataka\")\n",
      "0                          95\n"
     ]
    }
   ],
   "source": [
    "queryb='select beds_per_lakh(\"Karnataka\");'\n",
    "df_b=pd.read_sql_query(queryb, engine)\n",
    "print(df_b)"
   ]
  },
  {
   "cell_type": "markdown",
   "id": "b158eef0",
   "metadata": {},
   "source": [
    "#### govt_beds_per_lakh"
   ]
  },
  {
   "cell_type": "code",
   "execution_count": 87,
   "id": "3f9225a3",
   "metadata": {},
   "outputs": [],
   "source": [
    "query_g='Create function govt_beds_per_lakh(state varchar(255)) returns int  begin  declare total_govt_beds_per_lakh int;  with ct1 as  (SELECT c.`State/UT`, sum(c.Population) as Population from census c group by  c.`State/UT` )select (((a.rural_government_beds)+(a.urban_government_beds))/ct1.Population)*100000 into total_govt_beds_per_lakh from ct1 join government_hospitals a on ct1.`State/UT` = a.`State/UT` where ct1.`State/UT` = state ;return total_govt_beds_per_lakh;END'"
   ]
  },
  {
   "cell_type": "code",
   "execution_count": 88,
   "id": "136d50b3",
   "metadata": {},
   "outputs": [
    {
     "data": {
      "text/plain": [
       "0"
      ]
     },
     "execution_count": 88,
     "metadata": {},
     "output_type": "execute_result"
    }
   ],
   "source": [
    "cursor.execute(query_g)"
   ]
  },
  {
   "cell_type": "code",
   "execution_count": null,
   "id": "f6c34d7d",
   "metadata": {},
   "outputs": [],
   "source": []
  },
  {
   "cell_type": "code",
   "execution_count": 89,
   "id": "e094594c",
   "metadata": {},
   "outputs": [
    {
     "name": "stdout",
     "output_type": "stream",
     "text": [
      "   govt_beds_per_lakh(\"Karnataka\")\n",
      "0                              118\n"
     ]
    }
   ],
   "source": [
    "queryg='select govt_beds_per_lakh(\"bihar\");'\n",
    "df_g=pd.read_sql_query(queryg, engine)\n",
    "print(df_g)"
   ]
  },
  {
   "cell_type": "markdown",
   "id": "45ea5a88",
   "metadata": {},
   "source": [
    "### Problem Statement 22: \n",
    "It was reported* that in the north-eastern states, senior citizens are facing some issues in getting beds in a government hospital. Amir, from the department of healthcare, has requested a report on the healthcare situation in the north-eastern states.\n",
    "\n",
    "The north-eastern states are listed in (Data/north_east_states.txt). Read the file and extract the state names using python and write a query to find the following information about those states from the database. Use the stored functions created earlier wherever relevant.\n",
    "\n",
    "\tState Name\n",
    "\n",
    "\tPopulation\n",
    "\n",
    "\tSenior Citizen Population\n",
    "\n",
    "\tNumber of Government Hospital\n",
    "\n",
    "\tNumber of Government Hospital Beds\n",
    "\n",
    "\tNumber of Government Hospital beds for 1 Lakh population \n",
    "(Round the number to the nearest integer)\n",
    "\n",
    "\tNumber of Government Hospital beds for 1 Lakh senior citizen\n",
    "(Round the number to the nearest integer)\n",
    "\n",
    "The rows should be sorted by the number of Government Hospital beds for 1 Lakh senior citizens in ascending order.\n"
   ]
  },
  {
   "cell_type": "code",
   "execution_count": 175,
   "id": "d5a28ba2",
   "metadata": {},
   "outputs": [],
   "source": [
    "#There is no north_east_states.txt file in the dataset provided\n",
    "north_east_states=['arunachal pradesh','assam','manipur','meghalaya','mizoram','nagaland','tripura','sikkim']"
   ]
  },
  {
   "cell_type": "code",
   "execution_count": 176,
   "id": "00aafaa5",
   "metadata": {},
   "outputs": [
    {
     "data": {
      "text/plain": [
       "0"
      ]
     },
     "execution_count": 176,
     "metadata": {},
     "output_type": "execute_result"
    }
   ],
   "source": [
    "table='create table north_east_states (states varchar(50))'\n",
    "cursor.execute(table)\n",
    "    "
   ]
  },
  {
   "cell_type": "code",
   "execution_count": 177,
   "id": "c5f91cd1",
   "metadata": {},
   "outputs": [],
   "source": [
    "values=['arunachal pradesh','assam','manipur','meghalaya','mizoram','nagaland','tripura','sikkim']\n",
    "table_name='north_east_states'\n",
    "ins=f\"INSERT INTO {table_name} (states) VALUES (%s)\"\n",
    "with conn.cursor() as cursor:\n",
    "    for state in values:\n",
    "        cursor.execute(ins, state)\n",
    "    conn.commit()\n",
    "\n",
    "# close the connection\n",
    "#connection.close()\n",
    "    "
   ]
  },
  {
   "cell_type": "code",
   "execution_count": 178,
   "id": "25075154",
   "metadata": {},
   "outputs": [],
   "source": [
    "queryf=\"\"\"SELECT distinct states, get_population(states) as population, \n",
    "senior_citizen_population(states) as senior_citizen_population, \n",
    "get_govt_hospital_beds(states) as Number_of_Government_Hospital_Beds,\n",
    "beds_per_lakh(states) as Number_of_Hospital_Beds, \n",
    "govt_beds_per_lakh(states) as Number_of_government_Hospital_Beds ,\n",
    "(govt_beds_per_lakh(states)/senior_citizen_population(states))*get_population(states) as Number_of_Govt_Hospital_beds_per_Lakh_senior_citizen\n",
    "FROM north_east_states order by Number_of_Govt_Hospital_beds_per_Lakh_senior_citizen;\"\"\"\n"
   ]
  },
  {
   "cell_type": "code",
   "execution_count": 181,
   "id": "a10fcb58",
   "metadata": {},
   "outputs": [
    {
     "ename": "ProgrammingError",
     "evalue": "Cursor closed",
     "output_type": "error",
     "traceback": [
      "\u001b[1;31m---------------------------------------------------------------------------\u001b[0m",
      "\u001b[1;31mProgrammingError\u001b[0m                          Traceback (most recent call last)",
      "\u001b[1;32m~\\AppData\\Local\\Temp\\ipykernel_14420\\4072563246.py\u001b[0m in \u001b[0;36m<module>\u001b[1;34m\u001b[0m\n\u001b[1;32m----> 1\u001b[1;33m \u001b[0mcursor\u001b[0m\u001b[1;33m.\u001b[0m\u001b[0mexecute\u001b[0m\u001b[1;33m(\u001b[0m\u001b[0mqueryf\u001b[0m\u001b[1;33m)\u001b[0m\u001b[1;33m\u001b[0m\u001b[1;33m\u001b[0m\u001b[0m\n\u001b[0m",
      "\u001b[1;32m~\\anaconda3\\lib\\site-packages\\pymysql\\cursors.py\u001b[0m in \u001b[0;36mexecute\u001b[1;34m(self, query, args)\u001b[0m\n\u001b[0;32m    141\u001b[0m         \u001b[0mIf\u001b[0m \u001b[0margs\u001b[0m \u001b[1;32mis\u001b[0m \u001b[0ma\u001b[0m \u001b[0mdict\u001b[0m\u001b[1;33m,\u001b[0m \u001b[1;33m%\u001b[0m\u001b[1;33m(\u001b[0m\u001b[0mname\u001b[0m\u001b[1;33m)\u001b[0m\u001b[0ms\u001b[0m \u001b[0mcan\u001b[0m \u001b[0mbe\u001b[0m \u001b[0mused\u001b[0m \u001b[1;32mas\u001b[0m \u001b[0ma\u001b[0m \u001b[0mplaceholder\u001b[0m \u001b[1;32min\u001b[0m \u001b[0mthe\u001b[0m \u001b[0mquery\u001b[0m\u001b[1;33m.\u001b[0m\u001b[1;33m\u001b[0m\u001b[1;33m\u001b[0m\u001b[0m\n\u001b[0;32m    142\u001b[0m         \"\"\"\n\u001b[1;32m--> 143\u001b[1;33m         \u001b[1;32mwhile\u001b[0m \u001b[0mself\u001b[0m\u001b[1;33m.\u001b[0m\u001b[0mnextset\u001b[0m\u001b[1;33m(\u001b[0m\u001b[1;33m)\u001b[0m\u001b[1;33m:\u001b[0m\u001b[1;33m\u001b[0m\u001b[1;33m\u001b[0m\u001b[0m\n\u001b[0m\u001b[0;32m    144\u001b[0m             \u001b[1;32mpass\u001b[0m\u001b[1;33m\u001b[0m\u001b[1;33m\u001b[0m\u001b[0m\n\u001b[0;32m    145\u001b[0m \u001b[1;33m\u001b[0m\u001b[0m\n",
      "\u001b[1;32m~\\anaconda3\\lib\\site-packages\\pymysql\\cursors.py\u001b[0m in \u001b[0;36mnextset\u001b[1;34m(self)\u001b[0m\n\u001b[0;32m     94\u001b[0m \u001b[1;33m\u001b[0m\u001b[0m\n\u001b[0;32m     95\u001b[0m     \u001b[1;32mdef\u001b[0m \u001b[0mnextset\u001b[0m\u001b[1;33m(\u001b[0m\u001b[0mself\u001b[0m\u001b[1;33m)\u001b[0m\u001b[1;33m:\u001b[0m\u001b[1;33m\u001b[0m\u001b[1;33m\u001b[0m\u001b[0m\n\u001b[1;32m---> 96\u001b[1;33m         \u001b[1;32mreturn\u001b[0m \u001b[0mself\u001b[0m\u001b[1;33m.\u001b[0m\u001b[0m_nextset\u001b[0m\u001b[1;33m(\u001b[0m\u001b[1;32mFalse\u001b[0m\u001b[1;33m)\u001b[0m\u001b[1;33m\u001b[0m\u001b[1;33m\u001b[0m\u001b[0m\n\u001b[0m\u001b[0;32m     97\u001b[0m \u001b[1;33m\u001b[0m\u001b[0m\n\u001b[0;32m     98\u001b[0m     \u001b[1;32mdef\u001b[0m \u001b[0m_ensure_bytes\u001b[0m\u001b[1;33m(\u001b[0m\u001b[0mself\u001b[0m\u001b[1;33m,\u001b[0m \u001b[0mx\u001b[0m\u001b[1;33m,\u001b[0m \u001b[0mencoding\u001b[0m\u001b[1;33m=\u001b[0m\u001b[1;32mNone\u001b[0m\u001b[1;33m)\u001b[0m\u001b[1;33m:\u001b[0m\u001b[1;33m\u001b[0m\u001b[1;33m\u001b[0m\u001b[0m\n",
      "\u001b[1;32m~\\anaconda3\\lib\\site-packages\\pymysql\\cursors.py\u001b[0m in \u001b[0;36m_nextset\u001b[1;34m(self, unbuffered)\u001b[0m\n\u001b[0;32m     81\u001b[0m     \u001b[1;32mdef\u001b[0m \u001b[0m_nextset\u001b[0m\u001b[1;33m(\u001b[0m\u001b[0mself\u001b[0m\u001b[1;33m,\u001b[0m \u001b[0munbuffered\u001b[0m\u001b[1;33m=\u001b[0m\u001b[1;32mFalse\u001b[0m\u001b[1;33m)\u001b[0m\u001b[1;33m:\u001b[0m\u001b[1;33m\u001b[0m\u001b[1;33m\u001b[0m\u001b[0m\n\u001b[0;32m     82\u001b[0m         \u001b[1;34m\"\"\"Get the next query set\"\"\"\u001b[0m\u001b[1;33m\u001b[0m\u001b[1;33m\u001b[0m\u001b[0m\n\u001b[1;32m---> 83\u001b[1;33m         \u001b[0mconn\u001b[0m \u001b[1;33m=\u001b[0m \u001b[0mself\u001b[0m\u001b[1;33m.\u001b[0m\u001b[0m_get_db\u001b[0m\u001b[1;33m(\u001b[0m\u001b[1;33m)\u001b[0m\u001b[1;33m\u001b[0m\u001b[1;33m\u001b[0m\u001b[0m\n\u001b[0m\u001b[0;32m     84\u001b[0m         \u001b[0mcurrent_result\u001b[0m \u001b[1;33m=\u001b[0m \u001b[0mself\u001b[0m\u001b[1;33m.\u001b[0m\u001b[0m_result\u001b[0m\u001b[1;33m\u001b[0m\u001b[1;33m\u001b[0m\u001b[0m\n\u001b[0;32m     85\u001b[0m         \u001b[1;32mif\u001b[0m \u001b[0mcurrent_result\u001b[0m \u001b[1;32mis\u001b[0m \u001b[1;32mNone\u001b[0m \u001b[1;32mor\u001b[0m \u001b[0mcurrent_result\u001b[0m \u001b[1;32mis\u001b[0m \u001b[1;32mnot\u001b[0m \u001b[0mconn\u001b[0m\u001b[1;33m.\u001b[0m\u001b[0m_result\u001b[0m\u001b[1;33m:\u001b[0m\u001b[1;33m\u001b[0m\u001b[1;33m\u001b[0m\u001b[0m\n",
      "\u001b[1;32m~\\anaconda3\\lib\\site-packages\\pymysql\\cursors.py\u001b[0m in \u001b[0;36m_get_db\u001b[1;34m(self)\u001b[0m\n\u001b[0;32m     63\u001b[0m     \u001b[1;32mdef\u001b[0m \u001b[0m_get_db\u001b[0m\u001b[1;33m(\u001b[0m\u001b[0mself\u001b[0m\u001b[1;33m)\u001b[0m\u001b[1;33m:\u001b[0m\u001b[1;33m\u001b[0m\u001b[1;33m\u001b[0m\u001b[0m\n\u001b[0;32m     64\u001b[0m         \u001b[1;32mif\u001b[0m \u001b[1;32mnot\u001b[0m \u001b[0mself\u001b[0m\u001b[1;33m.\u001b[0m\u001b[0mconnection\u001b[0m\u001b[1;33m:\u001b[0m\u001b[1;33m\u001b[0m\u001b[1;33m\u001b[0m\u001b[0m\n\u001b[1;32m---> 65\u001b[1;33m             \u001b[1;32mraise\u001b[0m \u001b[0merr\u001b[0m\u001b[1;33m.\u001b[0m\u001b[0mProgrammingError\u001b[0m\u001b[1;33m(\u001b[0m\u001b[1;34m\"Cursor closed\"\u001b[0m\u001b[1;33m)\u001b[0m\u001b[1;33m\u001b[0m\u001b[1;33m\u001b[0m\u001b[0m\n\u001b[0m\u001b[0;32m     66\u001b[0m         \u001b[1;32mreturn\u001b[0m \u001b[0mself\u001b[0m\u001b[1;33m.\u001b[0m\u001b[0mconnection\u001b[0m\u001b[1;33m\u001b[0m\u001b[1;33m\u001b[0m\u001b[0m\n\u001b[0;32m     67\u001b[0m \u001b[1;33m\u001b[0m\u001b[0m\n",
      "\u001b[1;31mProgrammingError\u001b[0m: Cursor closed"
     ]
    }
   ],
   "source": [
    "cursor.execute(queryf)"
   ]
  },
  {
   "cell_type": "code",
   "execution_count": 138,
   "id": "189df3b8",
   "metadata": {},
   "outputs": [
    {
     "data": {
      "text/plain": [
       "(('manipur', 2855794, 409796, 1427, 90, 50, Decimal('348.4383')),\n",
       " ('assam', 31205576, 4127732, 17142, 61, 55, Decimal('415.7831')),\n",
       " ('tripura', 3673917, 568604, 4417, 133, 120, Decimal('775.3545')),\n",
       " ('nagaland', 1978502, 211983, 1880, 98, 95, Decimal('886.6637')),\n",
       " ('mizoram', 1097206, 144061, 1997, 211, 182, Decimal('1386.1585')),\n",
       " ('meghalaya', 2966889, 287754, 4457, 155, 150, Decimal('1546.5740')),\n",
       " ('arunachal pradesh', 1383727, 139635, 2404, 168, 174, Decimal('1724.2691')),\n",
       " ('sikkim', 610577, 82725, 1560, 188, 255, Decimal('1882.1048')))"
      ]
     },
     "execution_count": 138,
     "metadata": {},
     "output_type": "execute_result"
    }
   ],
   "source": [
    "result=cursor.fetchall()\n",
    "result"
   ]
  },
  {
   "cell_type": "code",
   "execution_count": 180,
   "id": "ad1b7e0b",
   "metadata": {},
   "outputs": [
    {
     "data": {
      "text/html": [
       "<div>\n",
       "<style scoped>\n",
       "    .dataframe tbody tr th:only-of-type {\n",
       "        vertical-align: middle;\n",
       "    }\n",
       "\n",
       "    .dataframe tbody tr th {\n",
       "        vertical-align: top;\n",
       "    }\n",
       "\n",
       "    .dataframe thead th {\n",
       "        text-align: right;\n",
       "    }\n",
       "</style>\n",
       "<table border=\"1\" class=\"dataframe\">\n",
       "  <thead>\n",
       "    <tr style=\"text-align: right;\">\n",
       "      <th></th>\n",
       "      <th>states</th>\n",
       "      <th>population</th>\n",
       "      <th>senior_citizen_population</th>\n",
       "      <th>Number_of_Government_Hospital_Beds</th>\n",
       "      <th>Number_of_Hospital_Beds</th>\n",
       "      <th>Number_of_government_Hospital_Beds</th>\n",
       "      <th>Number_of_Govt_Hospital_beds_per_Lakh_senior_citizen</th>\n",
       "    </tr>\n",
       "  </thead>\n",
       "  <tbody>\n",
       "    <tr>\n",
       "      <th>0</th>\n",
       "      <td>manipur</td>\n",
       "      <td>2855794</td>\n",
       "      <td>409796</td>\n",
       "      <td>1427</td>\n",
       "      <td>90</td>\n",
       "      <td>50</td>\n",
       "      <td>348.4383</td>\n",
       "    </tr>\n",
       "    <tr>\n",
       "      <th>1</th>\n",
       "      <td>assam</td>\n",
       "      <td>31205576</td>\n",
       "      <td>4127732</td>\n",
       "      <td>17142</td>\n",
       "      <td>61</td>\n",
       "      <td>55</td>\n",
       "      <td>415.7831</td>\n",
       "    </tr>\n",
       "    <tr>\n",
       "      <th>2</th>\n",
       "      <td>tripura</td>\n",
       "      <td>3673917</td>\n",
       "      <td>568604</td>\n",
       "      <td>4417</td>\n",
       "      <td>133</td>\n",
       "      <td>120</td>\n",
       "      <td>775.3545</td>\n",
       "    </tr>\n",
       "    <tr>\n",
       "      <th>3</th>\n",
       "      <td>nagaland</td>\n",
       "      <td>1978502</td>\n",
       "      <td>211983</td>\n",
       "      <td>1880</td>\n",
       "      <td>98</td>\n",
       "      <td>95</td>\n",
       "      <td>886.6637</td>\n",
       "    </tr>\n",
       "    <tr>\n",
       "      <th>4</th>\n",
       "      <td>mizoram</td>\n",
       "      <td>1097206</td>\n",
       "      <td>144061</td>\n",
       "      <td>1997</td>\n",
       "      <td>211</td>\n",
       "      <td>182</td>\n",
       "      <td>1386.1585</td>\n",
       "    </tr>\n",
       "    <tr>\n",
       "      <th>5</th>\n",
       "      <td>meghalaya</td>\n",
       "      <td>2966889</td>\n",
       "      <td>287754</td>\n",
       "      <td>4457</td>\n",
       "      <td>155</td>\n",
       "      <td>150</td>\n",
       "      <td>1546.5740</td>\n",
       "    </tr>\n",
       "    <tr>\n",
       "      <th>6</th>\n",
       "      <td>arunachal pradesh</td>\n",
       "      <td>1383727</td>\n",
       "      <td>139635</td>\n",
       "      <td>2404</td>\n",
       "      <td>168</td>\n",
       "      <td>174</td>\n",
       "      <td>1724.2691</td>\n",
       "    </tr>\n",
       "    <tr>\n",
       "      <th>7</th>\n",
       "      <td>sikkim</td>\n",
       "      <td>610577</td>\n",
       "      <td>82725</td>\n",
       "      <td>1560</td>\n",
       "      <td>188</td>\n",
       "      <td>255</td>\n",
       "      <td>1882.1048</td>\n",
       "    </tr>\n",
       "  </tbody>\n",
       "</table>\n",
       "</div>"
      ],
      "text/plain": [
       "              states  population  senior_citizen_population  \\\n",
       "0            manipur     2855794                     409796   \n",
       "1              assam    31205576                    4127732   \n",
       "2            tripura     3673917                     568604   \n",
       "3           nagaland     1978502                     211983   \n",
       "4            mizoram     1097206                     144061   \n",
       "5          meghalaya     2966889                     287754   \n",
       "6  arunachal pradesh     1383727                     139635   \n",
       "7             sikkim      610577                      82725   \n",
       "\n",
       "   Number_of_Government_Hospital_Beds  Number_of_Hospital_Beds  \\\n",
       "0                                1427                       90   \n",
       "1                               17142                       61   \n",
       "2                                4417                      133   \n",
       "3                                1880                       98   \n",
       "4                                1997                      211   \n",
       "5                                4457                      155   \n",
       "6                                2404                      168   \n",
       "7                                1560                      188   \n",
       "\n",
       "   Number_of_government_Hospital_Beds  \\\n",
       "0                                  50   \n",
       "1                                  55   \n",
       "2                                 120   \n",
       "3                                  95   \n",
       "4                                 182   \n",
       "5                                 150   \n",
       "6                                 174   \n",
       "7                                 255   \n",
       "\n",
       "   Number_of_Govt_Hospital_beds_per_Lakh_senior_citizen  \n",
       "0                                           348.4383     \n",
       "1                                           415.7831     \n",
       "2                                           775.3545     \n",
       "3                                           886.6637     \n",
       "4                                          1386.1585     \n",
       "5                                          1546.5740     \n",
       "6                                          1724.2691     \n",
       "7                                          1882.1048     "
      ]
     },
     "execution_count": 180,
     "metadata": {},
     "output_type": "execute_result"
    }
   ],
   "source": [
    "df_22=pd.read_sql_query(queryf, engine)\n",
    "df_22"
   ]
  },
  {
   "cell_type": "code",
   "execution_count": 140,
   "id": "f85895e6",
   "metadata": {},
   "outputs": [],
   "source": [
    "df_res=df_22.copy()"
   ]
  },
  {
   "cell_type": "code",
   "execution_count": 141,
   "id": "5cd14043",
   "metadata": {},
   "outputs": [
    {
     "data": {
      "text/html": [
       "<div>\n",
       "<style scoped>\n",
       "    .dataframe tbody tr th:only-of-type {\n",
       "        vertical-align: middle;\n",
       "    }\n",
       "\n",
       "    .dataframe tbody tr th {\n",
       "        vertical-align: top;\n",
       "    }\n",
       "\n",
       "    .dataframe thead th {\n",
       "        text-align: right;\n",
       "    }\n",
       "</style>\n",
       "<table border=\"1\" class=\"dataframe\">\n",
       "  <thead>\n",
       "    <tr style=\"text-align: right;\">\n",
       "      <th></th>\n",
       "      <th>states</th>\n",
       "      <th>population</th>\n",
       "      <th>senior_citizen_population</th>\n",
       "      <th>Number_of_Government_Hospital_Beds</th>\n",
       "      <th>Number_of_Hospital_Beds</th>\n",
       "      <th>Number_of_government_Hospital_Beds</th>\n",
       "      <th>Number_of_Govt_Hospital_beds_per_Lakh_senior_citizen</th>\n",
       "    </tr>\n",
       "  </thead>\n",
       "  <tbody>\n",
       "    <tr>\n",
       "      <th>0</th>\n",
       "      <td>manipur</td>\n",
       "      <td>2855794</td>\n",
       "      <td>409796</td>\n",
       "      <td>1427</td>\n",
       "      <td>90</td>\n",
       "      <td>50</td>\n",
       "      <td>348.4383</td>\n",
       "    </tr>\n",
       "    <tr>\n",
       "      <th>1</th>\n",
       "      <td>assam</td>\n",
       "      <td>31205576</td>\n",
       "      <td>4127732</td>\n",
       "      <td>17142</td>\n",
       "      <td>61</td>\n",
       "      <td>55</td>\n",
       "      <td>415.7831</td>\n",
       "    </tr>\n",
       "    <tr>\n",
       "      <th>2</th>\n",
       "      <td>tripura</td>\n",
       "      <td>3673917</td>\n",
       "      <td>568604</td>\n",
       "      <td>4417</td>\n",
       "      <td>133</td>\n",
       "      <td>120</td>\n",
       "      <td>775.3545</td>\n",
       "    </tr>\n",
       "    <tr>\n",
       "      <th>3</th>\n",
       "      <td>nagaland</td>\n",
       "      <td>1978502</td>\n",
       "      <td>211983</td>\n",
       "      <td>1880</td>\n",
       "      <td>98</td>\n",
       "      <td>95</td>\n",
       "      <td>886.6637</td>\n",
       "    </tr>\n",
       "    <tr>\n",
       "      <th>4</th>\n",
       "      <td>mizoram</td>\n",
       "      <td>1097206</td>\n",
       "      <td>144061</td>\n",
       "      <td>1997</td>\n",
       "      <td>211</td>\n",
       "      <td>182</td>\n",
       "      <td>1386.1585</td>\n",
       "    </tr>\n",
       "    <tr>\n",
       "      <th>5</th>\n",
       "      <td>meghalaya</td>\n",
       "      <td>2966889</td>\n",
       "      <td>287754</td>\n",
       "      <td>4457</td>\n",
       "      <td>155</td>\n",
       "      <td>150</td>\n",
       "      <td>1546.5740</td>\n",
       "    </tr>\n",
       "    <tr>\n",
       "      <th>6</th>\n",
       "      <td>arunachal pradesh</td>\n",
       "      <td>1383727</td>\n",
       "      <td>139635</td>\n",
       "      <td>2404</td>\n",
       "      <td>168</td>\n",
       "      <td>174</td>\n",
       "      <td>1724.2691</td>\n",
       "    </tr>\n",
       "    <tr>\n",
       "      <th>7</th>\n",
       "      <td>sikkim</td>\n",
       "      <td>610577</td>\n",
       "      <td>82725</td>\n",
       "      <td>1560</td>\n",
       "      <td>188</td>\n",
       "      <td>255</td>\n",
       "      <td>1882.1048</td>\n",
       "    </tr>\n",
       "  </tbody>\n",
       "</table>\n",
       "</div>"
      ],
      "text/plain": [
       "              states  population  senior_citizen_population  \\\n",
       "0            manipur     2855794                     409796   \n",
       "1              assam    31205576                    4127732   \n",
       "2            tripura     3673917                     568604   \n",
       "3           nagaland     1978502                     211983   \n",
       "4            mizoram     1097206                     144061   \n",
       "5          meghalaya     2966889                     287754   \n",
       "6  arunachal pradesh     1383727                     139635   \n",
       "7             sikkim      610577                      82725   \n",
       "\n",
       "   Number_of_Government_Hospital_Beds  Number_of_Hospital_Beds  \\\n",
       "0                                1427                       90   \n",
       "1                               17142                       61   \n",
       "2                                4417                      133   \n",
       "3                                1880                       98   \n",
       "4                                1997                      211   \n",
       "5                                4457                      155   \n",
       "6                                2404                      168   \n",
       "7                                1560                      188   \n",
       "\n",
       "   Number_of_government_Hospital_Beds  \\\n",
       "0                                  50   \n",
       "1                                  55   \n",
       "2                                 120   \n",
       "3                                  95   \n",
       "4                                 182   \n",
       "5                                 150   \n",
       "6                                 174   \n",
       "7                                 255   \n",
       "\n",
       "   Number_of_Govt_Hospital_beds_per_Lakh_senior_citizen  \n",
       "0                                           348.4383     \n",
       "1                                           415.7831     \n",
       "2                                           775.3545     \n",
       "3                                           886.6637     \n",
       "4                                          1386.1585     \n",
       "5                                          1546.5740     \n",
       "6                                          1724.2691     \n",
       "7                                          1882.1048     "
      ]
     },
     "execution_count": 141,
     "metadata": {},
     "output_type": "execute_result"
    }
   ],
   "source": [
    "df_res"
   ]
  },
  {
   "cell_type": "markdown",
   "id": "acce9139",
   "metadata": {},
   "source": [
    "### Problem Statement 23: \n",
    "The Government wants to run a scheme that would help people build in-premise toilets. \n",
    "For that purpose, a secretary has requested a district-wise report using the census data.\n",
    "\n",
    "Using a stored procedure, Create a district-wise report that shows the total population of each district, the total number of households in the district, the number of households that do NOT have on-premise toilets, and the percentage of the number of households that do NOT toilets in premise to the total number of households. Sort the data in a way that is most useful for the secretary.\n"
   ]
  },
  {
   "cell_type": "code",
   "execution_count": 202,
   "id": "24411ae2",
   "metadata": {},
   "outputs": [],
   "source": [
    "query_23=\"\"\"CREATE PROCEDURE not_on_premise() \n",
    " begin \n",
    "select  District,(Households_rural+households_urban) as households,\n",
    "round((Households_rural+households_urban)-(Households_Rural_Toilet_Premise+Households_Urban_Toilet_Premise),2) as not_on_premise ,\n",
    "round((((Households_rural+households_urban)-(Households_Rural_Toilet_Premise+Households_Urban_Toilet_Premise))/(Households_rural+households_urban))*100,2) as percen_of_not_on_premise \n",
    "from housing order by district ;\n",
    "END  ;\"\"\""
   ]
  },
  {
   "cell_type": "code",
   "execution_count": 203,
   "id": "4179c771",
   "metadata": {},
   "outputs": [
    {
     "data": {
      "text/plain": [
       "0"
      ]
     },
     "execution_count": 203,
     "metadata": {},
     "output_type": "execute_result"
    }
   ],
   "source": [
    "cursor.execute(query_23)"
   ]
  },
  {
   "cell_type": "code",
   "execution_count": 204,
   "id": "9b8b826a",
   "metadata": {},
   "outputs": [],
   "source": [
    "query23='call not_on_premise()'"
   ]
  },
  {
   "cell_type": "code",
   "execution_count": null,
   "id": "e6b7a5f1",
   "metadata": {},
   "outputs": [],
   "source": []
  },
  {
   "cell_type": "code",
   "execution_count": 205,
   "id": "5ed48b2e",
   "metadata": {},
   "outputs": [
    {
     "data": {
      "text/html": [
       "<div>\n",
       "<style scoped>\n",
       "    .dataframe tbody tr th:only-of-type {\n",
       "        vertical-align: middle;\n",
       "    }\n",
       "\n",
       "    .dataframe tbody tr th {\n",
       "        vertical-align: top;\n",
       "    }\n",
       "\n",
       "    .dataframe thead th {\n",
       "        text-align: right;\n",
       "    }\n",
       "</style>\n",
       "<table border=\"1\" class=\"dataframe\">\n",
       "  <thead>\n",
       "    <tr style=\"text-align: right;\">\n",
       "      <th></th>\n",
       "      <th>District</th>\n",
       "      <th>households</th>\n",
       "      <th>not_on_premise</th>\n",
       "      <th>percen_of_not_on_premise</th>\n",
       "    </tr>\n",
       "  </thead>\n",
       "  <tbody>\n",
       "    <tr>\n",
       "      <th>0</th>\n",
       "      <td>Adilabad</td>\n",
       "      <td>817714.0</td>\n",
       "      <td>579548.36</td>\n",
       "      <td>70.87</td>\n",
       "    </tr>\n",
       "    <tr>\n",
       "      <th>1</th>\n",
       "      <td>Agra</td>\n",
       "      <td>903823.0</td>\n",
       "      <td>487707.17</td>\n",
       "      <td>53.96</td>\n",
       "    </tr>\n",
       "    <tr>\n",
       "      <th>2</th>\n",
       "      <td>Ahmadabad</td>\n",
       "      <td>2198552.0</td>\n",
       "      <td>382761.66</td>\n",
       "      <td>17.41</td>\n",
       "    </tr>\n",
       "    <tr>\n",
       "      <th>3</th>\n",
       "      <td>Ahmadnagar</td>\n",
       "      <td>1323404.0</td>\n",
       "      <td>708659.24</td>\n",
       "      <td>53.55</td>\n",
       "    </tr>\n",
       "    <tr>\n",
       "      <th>4</th>\n",
       "      <td>Aizawl</td>\n",
       "      <td>100911.0</td>\n",
       "      <td>1097.21</td>\n",
       "      <td>1.09</td>\n",
       "    </tr>\n",
       "    <tr>\n",
       "      <th>...</th>\n",
       "      <td>...</td>\n",
       "      <td>...</td>\n",
       "      <td>...</td>\n",
       "      <td>...</td>\n",
       "    </tr>\n",
       "    <tr>\n",
       "      <th>635</th>\n",
       "      <td>Yadgir</td>\n",
       "      <td>262995.0</td>\n",
       "      <td>231866.54</td>\n",
       "      <td>88.16</td>\n",
       "    </tr>\n",
       "    <tr>\n",
       "      <th>636</th>\n",
       "      <td>Yamunanagar</td>\n",
       "      <td>357723.0</td>\n",
       "      <td>127414.54</td>\n",
       "      <td>35.62</td>\n",
       "    </tr>\n",
       "    <tr>\n",
       "      <th>637</th>\n",
       "      <td>Yanam</td>\n",
       "      <td>NaN</td>\n",
       "      <td>NaN</td>\n",
       "      <td>NaN</td>\n",
       "    </tr>\n",
       "    <tr>\n",
       "      <th>638</th>\n",
       "      <td>Yavatmal</td>\n",
       "      <td>798132.0</td>\n",
       "      <td>545774.73</td>\n",
       "      <td>68.38</td>\n",
       "    </tr>\n",
       "    <tr>\n",
       "      <th>639</th>\n",
       "      <td>Zunheboto</td>\n",
       "      <td>37311.0</td>\n",
       "      <td>9187.03</td>\n",
       "      <td>24.62</td>\n",
       "    </tr>\n",
       "  </tbody>\n",
       "</table>\n",
       "<p>640 rows × 4 columns</p>\n",
       "</div>"
      ],
      "text/plain": [
       "        District  households  not_on_premise  percen_of_not_on_premise\n",
       "0       Adilabad    817714.0       579548.36                     70.87\n",
       "1           Agra    903823.0       487707.17                     53.96\n",
       "2      Ahmadabad   2198552.0       382761.66                     17.41\n",
       "3     Ahmadnagar   1323404.0       708659.24                     53.55\n",
       "4         Aizawl    100911.0         1097.21                      1.09\n",
       "..           ...         ...             ...                       ...\n",
       "635       Yadgir    262995.0       231866.54                     88.16\n",
       "636  Yamunanagar    357723.0       127414.54                     35.62\n",
       "637        Yanam         NaN             NaN                       NaN\n",
       "638     Yavatmal    798132.0       545774.73                     68.38\n",
       "639    Zunheboto     37311.0         9187.03                     24.62\n",
       "\n",
       "[640 rows x 4 columns]"
      ]
     },
     "execution_count": 205,
     "metadata": {},
     "output_type": "execute_result"
    }
   ],
   "source": [
    "df23=pd.read_sql_query(query23, engine)\n",
    "df23"
   ]
  },
  {
   "cell_type": "markdown",
   "id": "5173968f",
   "metadata": {},
   "source": [
    "### Problem Statement 24: \n",
    "An Agency wants to find out if there is a relationship between dilapidated homes and the lack of households for the people. \n",
    "Using a stored procedure, create a report that shows the name of each district, its population, the number of liveable houses per 1000 people, and the number of dilapidated households per 1000 people. \n",
    "Visualize the relation between these values using an appropriate plot.\n"
   ]
  },
  {
   "cell_type": "code",
   "execution_count": 191,
   "id": "1c168871",
   "metadata": {},
   "outputs": [],
   "source": [
    "query24=\"\"\"create procedure household_relationship() \n",
    " begin\n",
    " select h.District,c.population,\n",
    "round((round(h.Households_Rural_Livable + h.Households_Urban_Livable)/c.population)*1000,2) as liveable_houses, \n",
    "round((round(h.Households_Rural_Dilapidated + h.Households_Urban_Dilapidated)/c.population)*1000,2) as dilapidated_households\n",
    " from housing h join census c on (c.`State/UT`,c.district)=(h.`State/UT`,h.district)\n",
    " order by h.district;\n",
    " END\"\"\""
   ]
  },
  {
   "cell_type": "code",
   "execution_count": 192,
   "id": "4e559a44",
   "metadata": {},
   "outputs": [
    {
     "data": {
      "text/plain": [
       "0"
      ]
     },
     "execution_count": 192,
     "metadata": {},
     "output_type": "execute_result"
    }
   ],
   "source": [
    "cursor.execute(query24)"
   ]
  },
  {
   "cell_type": "code",
   "execution_count": 193,
   "id": "9b7a2e1d",
   "metadata": {},
   "outputs": [],
   "source": [
    "query_24='call household_relationship()'"
   ]
  },
  {
   "cell_type": "code",
   "execution_count": 194,
   "id": "8c595f12",
   "metadata": {},
   "outputs": [
    {
     "data": {
      "text/html": [
       "<div>\n",
       "<style scoped>\n",
       "    .dataframe tbody tr th:only-of-type {\n",
       "        vertical-align: middle;\n",
       "    }\n",
       "\n",
       "    .dataframe tbody tr th {\n",
       "        vertical-align: top;\n",
       "    }\n",
       "\n",
       "    .dataframe thead th {\n",
       "        text-align: right;\n",
       "    }\n",
       "</style>\n",
       "<table border=\"1\" class=\"dataframe\">\n",
       "  <thead>\n",
       "    <tr style=\"text-align: right;\">\n",
       "      <th></th>\n",
       "      <th>District</th>\n",
       "      <th>population</th>\n",
       "      <th>liveable_houses</th>\n",
       "      <th>dilapidated_households</th>\n",
       "    </tr>\n",
       "  </thead>\n",
       "  <tbody>\n",
       "    <tr>\n",
       "      <th>0</th>\n",
       "      <td>Adilabad</td>\n",
       "      <td>2741239.0</td>\n",
       "      <td>96.69</td>\n",
       "      <td>16.42</td>\n",
       "    </tr>\n",
       "    <tr>\n",
       "      <th>1</th>\n",
       "      <td>Agra</td>\n",
       "      <td>4418797.0</td>\n",
       "      <td>94.67</td>\n",
       "      <td>6.59</td>\n",
       "    </tr>\n",
       "    <tr>\n",
       "      <th>2</th>\n",
       "      <td>Ahmadabad</td>\n",
       "      <td>7214225.0</td>\n",
       "      <td>80.96</td>\n",
       "      <td>2.51</td>\n",
       "    </tr>\n",
       "    <tr>\n",
       "      <th>3</th>\n",
       "      <td>Ahmadnagar</td>\n",
       "      <td>4543159.0</td>\n",
       "      <td>84.48</td>\n",
       "      <td>18.51</td>\n",
       "    </tr>\n",
       "    <tr>\n",
       "      <th>4</th>\n",
       "      <td>Aizawl</td>\n",
       "      <td>400309.0</td>\n",
       "      <td>51.10</td>\n",
       "      <td>2.28</td>\n",
       "    </tr>\n",
       "    <tr>\n",
       "      <th>...</th>\n",
       "      <td>...</td>\n",
       "      <td>...</td>\n",
       "      <td>...</td>\n",
       "      <td>...</td>\n",
       "    </tr>\n",
       "    <tr>\n",
       "      <th>635</th>\n",
       "      <td>Yadgir</td>\n",
       "      <td>1174271.0</td>\n",
       "      <td>106.77</td>\n",
       "      <td>11.10</td>\n",
       "    </tr>\n",
       "    <tr>\n",
       "      <th>636</th>\n",
       "      <td>Yamunanagar</td>\n",
       "      <td>1214205.0</td>\n",
       "      <td>123.19</td>\n",
       "      <td>16.02</td>\n",
       "    </tr>\n",
       "    <tr>\n",
       "      <th>637</th>\n",
       "      <td>Yanam</td>\n",
       "      <td>55626.0</td>\n",
       "      <td>NaN</td>\n",
       "      <td>NaN</td>\n",
       "    </tr>\n",
       "    <tr>\n",
       "      <th>638</th>\n",
       "      <td>Yavatmal</td>\n",
       "      <td>2772348.0</td>\n",
       "      <td>124.30</td>\n",
       "      <td>20.76</td>\n",
       "    </tr>\n",
       "    <tr>\n",
       "      <th>639</th>\n",
       "      <td>Zunheboto</td>\n",
       "      <td>140757.0</td>\n",
       "      <td>113.69</td>\n",
       "      <td>3.86</td>\n",
       "    </tr>\n",
       "  </tbody>\n",
       "</table>\n",
       "<p>640 rows × 4 columns</p>\n",
       "</div>"
      ],
      "text/plain": [
       "        District  population  liveable_houses  dilapidated_households\n",
       "0       Adilabad   2741239.0            96.69                   16.42\n",
       "1           Agra   4418797.0            94.67                    6.59\n",
       "2      Ahmadabad   7214225.0            80.96                    2.51\n",
       "3     Ahmadnagar   4543159.0            84.48                   18.51\n",
       "4         Aizawl    400309.0            51.10                    2.28\n",
       "..           ...         ...              ...                     ...\n",
       "635       Yadgir   1174271.0           106.77                   11.10\n",
       "636  Yamunanagar   1214205.0           123.19                   16.02\n",
       "637        Yanam     55626.0              NaN                     NaN\n",
       "638     Yavatmal   2772348.0           124.30                   20.76\n",
       "639    Zunheboto    140757.0           113.69                    3.86\n",
       "\n",
       "[640 rows x 4 columns]"
      ]
     },
     "execution_count": 194,
     "metadata": {},
     "output_type": "execute_result"
    }
   ],
   "source": [
    "df_24=pd.read_sql_query(query_24, engine)\n",
    "df_24"
   ]
  },
  {
   "cell_type": "markdown",
   "id": "f68b68d7",
   "metadata": {},
   "source": [
    "### Visualisation"
   ]
  },
  {
   "cell_type": "code",
   "execution_count": 199,
   "id": "1c6387b5",
   "metadata": {},
   "outputs": [
    {
     "name": "stderr",
     "output_type": "stream",
     "text": [
      "No artists with labels found to put in legend.  Note that artists whose label start with an underscore are ignored when legend() is called with no argument.\n"
     ]
    },
    {
     "data": {
      "image/png": "[encoded data removed]",
      "text/plain": [
       "<Figure size 1000x1500 with 1 Axes>"
      ]
     },
     "metadata": {},
     "output_type": "display_data"
    }
   ],
   "source": [
    "import matplotlib.pyplot as plt \n",
    "import seaborn as sns\n",
    "plt.figure(figsize=(10,15))\n",
    "sns.lineplot(x=\"liveable_houses\", y=\"dilapidated_households\", data=df_24)\n",
    "plt.title(\"Liveable Vs Dilapidated Houses\",fontdict={'fontsize':20,'color':'black','weight':'bold'})\n",
    "plt.xlabel(\"Liveable_houses_per_1000\",fontdict={'fontsize':15,'color':'black','weight':'bold'})\n",
    "plt.ylabel(\"Dilapidated_houses_per_1000\",fontdict={'fontsize':15,'color':'black','weight':'bold'})\n",
    "plt.legend()\n",
    "plt.show()"
   ]
  },
  {
   "cell_type": "markdown",
   "id": "2337e0e9",
   "metadata": {},
   "source": [
    "### Problem Statement 25: \n",
    "The rural development department has requested a report on the healthcare situation in rural areas as compared to urban areas.\n",
    "Write a query to find the number of hospital beds and government hospital beds per 1 lakh people for rural and urban areas separately for each state, along with the difference between them. \n"
   ]
  },
  {
   "cell_type": "code",
   "execution_count": 200,
   "id": "a49862a2",
   "metadata": {},
   "outputs": [],
   "source": [
    "query_25=\"\"\"\n",
    "with pop as\n",
    "(select `State/UT`, sum(Population) as population from census group by `State/UT`)\n",
    "select p.`State/UT`,\n",
    "round((a.HospitalBeds/p.population)*100000) as Hospital_beds_per_lakh,\n",
    "round((g.Rural_Government_Beds/p.population)*100000) as Rural_govt_hospital_beds_per_lakh,\n",
    "round((g.Urban_Government_Beds/p.population)*100000)as Urban_govt_hospital_beds_per_lakh,\n",
    "abs(round((g.Urban_Government_Beds/p.population)*100000-(g.Rural_Government_Beds/p.population)*100000)) as Urban_Rural_govt_beds_diff\n",
    "from pop p  join all_hospitals a on p.`State/UT`=a.`State/UT` \n",
    "join government_hospitals g on p.`State/UT`=g.`State/UT`;\"\"\""
   ]
  },
  {
   "cell_type": "code",
   "execution_count": 201,
   "id": "dc55fff9",
   "metadata": {},
   "outputs": [
    {
     "data": {
      "text/html": [
       "<div>\n",
       "<style scoped>\n",
       "    .dataframe tbody tr th:only-of-type {\n",
       "        vertical-align: middle;\n",
       "    }\n",
       "\n",
       "    .dataframe tbody tr th {\n",
       "        vertical-align: top;\n",
       "    }\n",
       "\n",
       "    .dataframe thead th {\n",
       "        text-align: right;\n",
       "    }\n",
       "</style>\n",
       "<table border=\"1\" class=\"dataframe\">\n",
       "  <thead>\n",
       "    <tr style=\"text-align: right;\">\n",
       "      <th></th>\n",
       "      <th>State/UT</th>\n",
       "      <th>Hospital_beds_per_lakh</th>\n",
       "      <th>Rural_govt_hospital_beds_per_lakh</th>\n",
       "      <th>Urban_govt_hospital_beds_per_lakh</th>\n",
       "      <th>Urban_Rural_govt_beds_diff</th>\n",
       "    </tr>\n",
       "  </thead>\n",
       "  <tbody>\n",
       "    <tr>\n",
       "      <th>0</th>\n",
       "      <td>Andaman and Nicobar Islands</td>\n",
       "      <td>327.0</td>\n",
       "      <td>151.0</td>\n",
       "      <td>131.0</td>\n",
       "      <td>20.0</td>\n",
       "    </tr>\n",
       "    <tr>\n",
       "      <th>1</th>\n",
       "      <td>Andhra Pradesh</td>\n",
       "      <td>123.0</td>\n",
       "      <td>13.0</td>\n",
       "      <td>34.0</td>\n",
       "      <td>21.0</td>\n",
       "    </tr>\n",
       "    <tr>\n",
       "      <th>2</th>\n",
       "      <td>Arunachal Pradesh</td>\n",
       "      <td>168.0</td>\n",
       "      <td>154.0</td>\n",
       "      <td>19.0</td>\n",
       "      <td>135.0</td>\n",
       "    </tr>\n",
       "    <tr>\n",
       "      <th>3</th>\n",
       "      <td>Assam</td>\n",
       "      <td>61.0</td>\n",
       "      <td>35.0</td>\n",
       "      <td>20.0</td>\n",
       "      <td>15.0</td>\n",
       "    </tr>\n",
       "    <tr>\n",
       "      <th>4</th>\n",
       "      <td>Bihar</td>\n",
       "      <td>17.0</td>\n",
       "      <td>6.0</td>\n",
       "      <td>6.0</td>\n",
       "      <td>0.0</td>\n",
       "    </tr>\n",
       "    <tr>\n",
       "      <th>5</th>\n",
       "      <td>Chandigarh</td>\n",
       "      <td>356.0</td>\n",
       "      <td>0.0</td>\n",
       "      <td>74.0</td>\n",
       "      <td>74.0</td>\n",
       "    </tr>\n",
       "    <tr>\n",
       "      <th>6</th>\n",
       "      <td>Chhattisgarh</td>\n",
       "      <td>56.0</td>\n",
       "      <td>20.0</td>\n",
       "      <td>17.0</td>\n",
       "      <td>3.0</td>\n",
       "    </tr>\n",
       "    <tr>\n",
       "      <th>7</th>\n",
       "      <td>Dadra and Nagar Haveli</td>\n",
       "      <td>165.0</td>\n",
       "      <td>79.0</td>\n",
       "      <td>92.0</td>\n",
       "      <td>13.0</td>\n",
       "    </tr>\n",
       "    <tr>\n",
       "      <th>8</th>\n",
       "      <td>Daman and Diu</td>\n",
       "      <td>123.0</td>\n",
       "      <td>99.0</td>\n",
       "      <td>0.0</td>\n",
       "      <td>99.0</td>\n",
       "    </tr>\n",
       "    <tr>\n",
       "      <th>9</th>\n",
       "      <td>Goa</td>\n",
       "      <td>183.0</td>\n",
       "      <td>96.0</td>\n",
       "      <td>110.0</td>\n",
       "      <td>14.0</td>\n",
       "    </tr>\n",
       "    <tr>\n",
       "      <th>10</th>\n",
       "      <td>Gujarat</td>\n",
       "      <td>68.0</td>\n",
       "      <td>19.0</td>\n",
       "      <td>34.0</td>\n",
       "      <td>15.0</td>\n",
       "    </tr>\n",
       "    <tr>\n",
       "      <th>11</th>\n",
       "      <td>Haryana</td>\n",
       "      <td>55.0</td>\n",
       "      <td>26.0</td>\n",
       "      <td>18.0</td>\n",
       "      <td>8.0</td>\n",
       "    </tr>\n",
       "    <tr>\n",
       "      <th>12</th>\n",
       "      <td>Himachal Pradesh</td>\n",
       "      <td>127.0</td>\n",
       "      <td>83.0</td>\n",
       "      <td>98.0</td>\n",
       "      <td>16.0</td>\n",
       "    </tr>\n",
       "    <tr>\n",
       "      <th>13</th>\n",
       "      <td>Jammu and Kashmir</td>\n",
       "      <td>91.0</td>\n",
       "      <td>58.0</td>\n",
       "      <td>36.0</td>\n",
       "      <td>23.0</td>\n",
       "    </tr>\n",
       "    <tr>\n",
       "      <th>14</th>\n",
       "      <td>Jharkhand</td>\n",
       "      <td>22.0</td>\n",
       "      <td>18.0</td>\n",
       "      <td>15.0</td>\n",
       "      <td>3.0</td>\n",
       "    </tr>\n",
       "    <tr>\n",
       "      <th>15</th>\n",
       "      <td>Karnataka</td>\n",
       "      <td>95.0</td>\n",
       "      <td>36.0</td>\n",
       "      <td>83.0</td>\n",
       "      <td>47.0</td>\n",
       "    </tr>\n",
       "    <tr>\n",
       "      <th>16</th>\n",
       "      <td>Kerala</td>\n",
       "      <td>118.0</td>\n",
       "      <td>50.0</td>\n",
       "      <td>63.0</td>\n",
       "      <td>13.0</td>\n",
       "    </tr>\n",
       "    <tr>\n",
       "      <th>17</th>\n",
       "      <td>Lakshadweep</td>\n",
       "      <td>388.0</td>\n",
       "      <td>465.0</td>\n",
       "      <td>0.0</td>\n",
       "      <td>465.0</td>\n",
       "    </tr>\n",
       "    <tr>\n",
       "      <th>18</th>\n",
       "      <td>Madhya Pradesh</td>\n",
       "      <td>53.0</td>\n",
       "      <td>14.0</td>\n",
       "      <td>26.0</td>\n",
       "      <td>12.0</td>\n",
       "    </tr>\n",
       "    <tr>\n",
       "      <th>19</th>\n",
       "      <td>Maharashtra</td>\n",
       "      <td>61.0</td>\n",
       "      <td>11.0</td>\n",
       "      <td>35.0</td>\n",
       "      <td>24.0</td>\n",
       "    </tr>\n",
       "    <tr>\n",
       "      <th>20</th>\n",
       "      <td>Manipur</td>\n",
       "      <td>90.0</td>\n",
       "      <td>26.0</td>\n",
       "      <td>24.0</td>\n",
       "      <td>1.0</td>\n",
       "    </tr>\n",
       "    <tr>\n",
       "      <th>21</th>\n",
       "      <td>Meghalaya</td>\n",
       "      <td>155.0</td>\n",
       "      <td>66.0</td>\n",
       "      <td>84.0</td>\n",
       "      <td>17.0</td>\n",
       "    </tr>\n",
       "    <tr>\n",
       "      <th>22</th>\n",
       "      <td>Mizoram</td>\n",
       "      <td>211.0</td>\n",
       "      <td>55.0</td>\n",
       "      <td>127.0</td>\n",
       "      <td>72.0</td>\n",
       "    </tr>\n",
       "    <tr>\n",
       "      <th>23</th>\n",
       "      <td>Nagaland</td>\n",
       "      <td>98.0</td>\n",
       "      <td>32.0</td>\n",
       "      <td>63.0</td>\n",
       "      <td>31.0</td>\n",
       "    </tr>\n",
       "    <tr>\n",
       "      <th>24</th>\n",
       "      <td>Nct Of Delhi</td>\n",
       "      <td>123.0</td>\n",
       "      <td>0.0</td>\n",
       "      <td>145.0</td>\n",
       "      <td>145.0</td>\n",
       "    </tr>\n",
       "    <tr>\n",
       "      <th>25</th>\n",
       "      <td>Orissa</td>\n",
       "      <td>39.0</td>\n",
       "      <td>15.0</td>\n",
       "      <td>29.0</td>\n",
       "      <td>14.0</td>\n",
       "    </tr>\n",
       "    <tr>\n",
       "      <th>26</th>\n",
       "      <td>Pondicherry</td>\n",
       "      <td>358.0</td>\n",
       "      <td>8.0</td>\n",
       "      <td>278.0</td>\n",
       "      <td>271.0</td>\n",
       "    </tr>\n",
       "    <tr>\n",
       "      <th>27</th>\n",
       "      <td>Punjab</td>\n",
       "      <td>49.0</td>\n",
       "      <td>21.0</td>\n",
       "      <td>44.0</td>\n",
       "      <td>23.0</td>\n",
       "    </tr>\n",
       "    <tr>\n",
       "      <th>28</th>\n",
       "      <td>Rajasthan</td>\n",
       "      <td>76.0</td>\n",
       "      <td>31.0</td>\n",
       "      <td>16.0</td>\n",
       "      <td>15.0</td>\n",
       "    </tr>\n",
       "    <tr>\n",
       "      <th>29</th>\n",
       "      <td>Sikkim</td>\n",
       "      <td>188.0</td>\n",
       "      <td>43.0</td>\n",
       "      <td>213.0</td>\n",
       "      <td>170.0</td>\n",
       "    </tr>\n",
       "    <tr>\n",
       "      <th>30</th>\n",
       "      <td>Tamil Nadu</td>\n",
       "      <td>101.0</td>\n",
       "      <td>56.0</td>\n",
       "      <td>52.0</td>\n",
       "      <td>4.0</td>\n",
       "    </tr>\n",
       "    <tr>\n",
       "      <th>31</th>\n",
       "      <td>Telangana</td>\n",
       "      <td>49.0</td>\n",
       "      <td>22.0</td>\n",
       "      <td>38.0</td>\n",
       "      <td>16.0</td>\n",
       "    </tr>\n",
       "    <tr>\n",
       "      <th>32</th>\n",
       "      <td>Tripura</td>\n",
       "      <td>133.0</td>\n",
       "      <td>31.0</td>\n",
       "      <td>89.0</td>\n",
       "      <td>58.0</td>\n",
       "    </tr>\n",
       "    <tr>\n",
       "      <th>33</th>\n",
       "      <td>Uttar Pradesh</td>\n",
       "      <td>29.0</td>\n",
       "      <td>20.0</td>\n",
       "      <td>19.0</td>\n",
       "      <td>1.0</td>\n",
       "    </tr>\n",
       "    <tr>\n",
       "      <th>34</th>\n",
       "      <td>Uttarakhand</td>\n",
       "      <td>66.0</td>\n",
       "      <td>33.0</td>\n",
       "      <td>52.0</td>\n",
       "      <td>19.0</td>\n",
       "    </tr>\n",
       "    <tr>\n",
       "      <th>35</th>\n",
       "      <td>West Bengal</td>\n",
       "      <td>56.0</td>\n",
       "      <td>22.0</td>\n",
       "      <td>65.0</td>\n",
       "      <td>43.0</td>\n",
       "    </tr>\n",
       "  </tbody>\n",
       "</table>\n",
       "</div>"
      ],
      "text/plain": [
       "                       State/UT  Hospital_beds_per_lakh  \\\n",
       "0   Andaman and Nicobar Islands                   327.0   \n",
       "1                Andhra Pradesh                   123.0   \n",
       "2             Arunachal Pradesh                   168.0   \n",
       "3                         Assam                    61.0   \n",
       "4                         Bihar                    17.0   \n",
       "5                    Chandigarh                   356.0   \n",
       "6                  Chhattisgarh                    56.0   \n",
       "7        Dadra and Nagar Haveli                   165.0   \n",
       "8                 Daman and Diu                   123.0   \n",
       "9                           Goa                   183.0   \n",
       "10                      Gujarat                    68.0   \n",
       "11                      Haryana                    55.0   \n",
       "12             Himachal Pradesh                   127.0   \n",
       "13            Jammu and Kashmir                    91.0   \n",
       "14                    Jharkhand                    22.0   \n",
       "15                    Karnataka                    95.0   \n",
       "16                       Kerala                   118.0   \n",
       "17                  Lakshadweep                   388.0   \n",
       "18               Madhya Pradesh                    53.0   \n",
       "19                  Maharashtra                    61.0   \n",
       "20                      Manipur                    90.0   \n",
       "21                    Meghalaya                   155.0   \n",
       "22                      Mizoram                   211.0   \n",
       "23                     Nagaland                    98.0   \n",
       "24                 Nct Of Delhi                   123.0   \n",
       "25                       Orissa                    39.0   \n",
       "26                  Pondicherry                   358.0   \n",
       "27                       Punjab                    49.0   \n",
       "28                    Rajasthan                    76.0   \n",
       "29                       Sikkim                   188.0   \n",
       "30                   Tamil Nadu                   101.0   \n",
       "31                    Telangana                    49.0   \n",
       "32                      Tripura                   133.0   \n",
       "33                Uttar Pradesh                    29.0   \n",
       "34                  Uttarakhand                    66.0   \n",
       "35                  West Bengal                    56.0   \n",
       "\n",
       "    Rural_govt_hospital_beds_per_lakh  Urban_govt_hospital_beds_per_lakh  \\\n",
       "0                               151.0                              131.0   \n",
       "1                                13.0                               34.0   \n",
       "2                               154.0                               19.0   \n",
       "3                                35.0                               20.0   \n",
       "4                                 6.0                                6.0   \n",
       "5                                 0.0                               74.0   \n",
       "6                                20.0                               17.0   \n",
       "7                                79.0                               92.0   \n",
       "8                                99.0                                0.0   \n",
       "9                                96.0                              110.0   \n",
       "10                               19.0                               34.0   \n",
       "11                               26.0                               18.0   \n",
       "12                               83.0                               98.0   \n",
       "13                               58.0                               36.0   \n",
       "14                               18.0                               15.0   \n",
       "15                               36.0                               83.0   \n",
       "16                               50.0                               63.0   \n",
       "17                              465.0                                0.0   \n",
       "18                               14.0                               26.0   \n",
       "19                               11.0                               35.0   \n",
       "20                               26.0                               24.0   \n",
       "21                               66.0                               84.0   \n",
       "22                               55.0                              127.0   \n",
       "23                               32.0                               63.0   \n",
       "24                                0.0                              145.0   \n",
       "25                               15.0                               29.0   \n",
       "26                                8.0                              278.0   \n",
       "27                               21.0                               44.0   \n",
       "28                               31.0                               16.0   \n",
       "29                               43.0                              213.0   \n",
       "30                               56.0                               52.0   \n",
       "31                               22.0                               38.0   \n",
       "32                               31.0                               89.0   \n",
       "33                               20.0                               19.0   \n",
       "34                               33.0                               52.0   \n",
       "35                               22.0                               65.0   \n",
       "\n",
       "    Urban_Rural_govt_beds_diff  \n",
       "0                         20.0  \n",
       "1                         21.0  \n",
       "2                        135.0  \n",
       "3                         15.0  \n",
       "4                          0.0  \n",
       "5                         74.0  \n",
       "6                          3.0  \n",
       "7                         13.0  \n",
       "8                         99.0  \n",
       "9                         14.0  \n",
       "10                        15.0  \n",
       "11                         8.0  \n",
       "12                        16.0  \n",
       "13                        23.0  \n",
       "14                         3.0  \n",
       "15                        47.0  \n",
       "16                        13.0  \n",
       "17                       465.0  \n",
       "18                        12.0  \n",
       "19                        24.0  \n",
       "20                         1.0  \n",
       "21                        17.0  \n",
       "22                        72.0  \n",
       "23                        31.0  \n",
       "24                       145.0  \n",
       "25                        14.0  \n",
       "26                       271.0  \n",
       "27                        23.0  \n",
       "28                        15.0  \n",
       "29                       170.0  \n",
       "30                         4.0  \n",
       "31                        16.0  \n",
       "32                        58.0  \n",
       "33                         1.0  \n",
       "34                        19.0  \n",
       "35                        43.0  "
      ]
     },
     "execution_count": 201,
     "metadata": {},
     "output_type": "execute_result"
    }
   ],
   "source": [
    "df_25=pd.read_sql_query(query_25, engine)\n",
    "df_25"
   ]
  },
  {
   "cell_type": "markdown",
   "id": "732195da",
   "metadata": {},
   "source": [
    "### Problem Statement 26: \n",
    "New hospitals are under construction* in different locations, and once they are constructed the data in the database is to be updated. Also, when some hospitals non-operational hospital might be removed. Since the data is quite significant there should be a hospital_log table that would store any changes made to the hospital or government_hospital table.\n",
    "\n",
    "The hospital_log table should contain the name of the district, whether the hospital is situated in urban or rural area, whether the hospital is being added or being removed, date of adding or removing the hospital to/from the existing facilities, and whether it is government hospital or not. The a row in the table must be added automatically whenever a new hospital is added, or an existing hospital is removed\n"
   ]
  },
  {
   "cell_type": "code",
   "execution_count": null,
   "id": "3f2d84bc",
   "metadata": {},
   "outputs": [],
   "source": []
  },
  {
   "cell_type": "code",
   "execution_count": null,
   "id": "184fe18e",
   "metadata": {},
   "outputs": [],
   "source": []
  },
  {
   "cell_type": "code",
   "execution_count": null,
   "id": "9f061da4",
   "metadata": {},
   "outputs": [],
   "source": []
  },
  {
   "cell_type": "code",
   "execution_count": null,
   "id": "d09efb5b",
   "metadata": {},
   "outputs": [],
   "source": []
  },
  {
   "cell_type": "code",
   "execution_count": null,
   "id": "8b78489a",
   "metadata": {},
   "outputs": [],
   "source": []
  },
  {
   "cell_type": "code",
   "execution_count": null,
   "id": "41bec150",
   "metadata": {},
   "outputs": [],
   "source": []
  },
  {
   "cell_type": "code",
   "execution_count": null,
   "id": "c1731b0c",
   "metadata": {},
   "outputs": [],
   "source": []
  },
  {
   "cell_type": "markdown",
   "id": "b521aa29",
   "metadata": {},
   "source": [
    "### Problem Statement 27:\n",
    "New hospital beds are to be added in different government and private hospitals in different locations, and some non-operational hospital beds might be removed from hospitals. Since the data is quite significant there should be a hospital_bed_log table that would store any changes made to the hospital or government_hospital table with respect to number of hospital beds.\n",
    "\n",
    "The hospital_bed_log table should contain the name of the district, whether the hospital is situated in urban or rural area, date of adding or removing hospital beds, the number of beds being added or removed, whether it is being added or removed and whether it is added to/removed from government hospital or not. The table must be updated automatically whenever new hospital beds are added to or removed from the existing facility.\n",
    "\n"
   ]
  },
  {
   "cell_type": "code",
   "execution_count": null,
   "id": "62e0ad9f",
   "metadata": {},
   "outputs": [],
   "source": []
  },
  {
   "cell_type": "code",
   "execution_count": null,
   "id": "97a52acc",
   "metadata": {},
   "outputs": [],
   "source": []
  },
  {
   "cell_type": "code",
   "execution_count": null,
   "id": "e18001de",
   "metadata": {},
   "outputs": [],
   "source": []
  },
  {
   "cell_type": "code",
   "execution_count": null,
   "id": "5a921029",
   "metadata": {},
   "outputs": [],
   "source": []
  },
  {
   "cell_type": "code",
   "execution_count": null,
   "id": "bcb85f45",
   "metadata": {},
   "outputs": [],
   "source": []
  }
 ],
 "metadata": {
  "kernelspec": {
   "display_name": "Python 3 (ipykernel)",
   "language": "python",
   "name": "python3"
  },
  "language_info": {
   "codemirror_mode": {
    "name": "ipython",
    "version": 3
   },
   "file_extension": ".py",
   "mimetype": "text/x-python",
   "name": "python",
   "nbconvert_exporter": "python",
   "pygments_lexer": "ipython3",
   "version": "3.9.13"
  }
 },
 "nbformat": 4,
 "nbformat_minor": 5
}
